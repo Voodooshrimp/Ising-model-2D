{
 "cells": [
  {
   "cell_type": "markdown",
   "metadata": {
    "collapsed": false,
    "jupyter": {
     "source_hidden": false
    }
   },
   "source": [
    "### ISING 2D MODEL\n",
    "[Link to Index](#index)<a id='\Theory'></a>\n",
    "The Ising model stands as a fundamental model in statistical mechanics, serving as a theoretical framework for understanding phase transitions in magnetic systems. Originating from the study of ferromagnetism, the Ising model has found widespread applications in diverse fields, including materials science, condensed matter physics, and computational neuroscience. This notebook aims to investigate phase transitions in the Ising model through Monte Carlo simulation, providing insights into the underlying physics governing these phenomena.  \n",
    "\n"
   ]
  },
  {
   "cell_type": "markdown",
   "metadata": {
    "collapsed": false,
    "jupyter": {
     "source_hidden": false
    }
   },
   "source": [
    "**Theoretical Background:**\n",
    "The Ising model is governed by its Hamiltonian, which encapsulates the energy of the system. The Hamiltonian consists of one main term representing the interaction energy between neighboring spins. Mathematically, the Hamiltonian is expressed as:\n",
    "\n",
    "$$H = -J \\sum_{\\langle i, j \\rangle} s_i s_j $$\n",
    "\n",
    "Here, $ H $ denotes the Hamiltonian, $J$ represents the strength of interaction between neighboring spins, $s_i$ and $s_j$ denote the spins at lattice sites $i$ and $j$, respectively. The sum is taken over all nearest neighbor pairs $\\langle i, j \\rangle$, accounting for the interactions between adjacent spins.\n",
    "\n",
    "In ferromagnetic materials, the orientation   \n",
    "of atomic magnetic moments, or spins, plays a pivotal role in dictating their behavior. When spins align in the same direction, the material exhibits spontaneous magnetization, even without the presence of an external magnetic field. This alignment leads to the formation of magnetic domains, regions where spins are predominantly aligned. As temperature decreases, thermal fluctuations diminish, allowing spins to align more uniformly, resulting in long\\-range order and increased magnetization. Conversely, at higher temperatures, thermal energy disrupts spin alignment, reducing the material's overall magnetization. The Ising model captures this phenomenon by representing spins as discrete entities interacting with each other, offering insights into the microscopic mechanisms underlying ferromagnetic behavior. Understanding the interplay between spin orientation and macroscopic magnetic properties is essential for advancing our knowledge of ferromagnetism and its technological applications.\n",
    "\n",
    "In this notebook, the Ising model is employed using a metropolis algorithm to simulate spin interactions in an NxM lattice of particles, after allowing time for the system to come to an equilibrium, physical measurements of the system can be made including the magnetic susceptibility, specific heat capacity and energy of that lattice.\n",
    "\n",
    "In ferromagnetism, temperature plays a big role, the phase transition point, the critical temperature, the system changes from an ordered system, where all or most of the spins are aligned, resulting in magnetisation, to a disordered state at higher temperatures where magnetisation can't occur spontaneously due to the disordered spin orientations. \n",
    "\n",
    "For this reason, the critical temperature of a system is of great interest, however due to the high complexity in direct calculations, it is unreasonable to calculate this by hand, this code can simulate billions of calculations in a relatively short space of time making for a good method for simulating statistical physical systems for analysis.\n",
    "\n",
    "In this model, a reduced temperature value is used, setting the coupling energy to 1 and normalising the temperature values by a factor of $k_B/J$ for a dimensionless quantity such that $T_c = T'k_B/J$"
   ]
  },
  {
   "cell_type": "markdown",
   "metadata": {
    "collapsed": false,
    "jupyter": {
     "source_hidden": false
    }
   },
   "source": [
    "### Index:  <a id='index'></a>\n",
    "\n",
    "Links to each section here\n",
    "\n",
    "- [Theory](#Theory)\n",
    "- [Function definitions](#section1)\n",
    "- [Random Lattice Generation with Visualization](#section2)\n",
    "- [Efficiency Benchmarking for Random Lattice Generation](#section3)\n",
    "  - [One by one test](#section3.1)\n",
    "  - [Batch generation test](#section3.2)\n",
    "  - [Multithreading test \\- \\(legacy code \\- broken link\\)](#section3.3)\n",
    "  - [Multiprocessing test](#section3.4)\n",
    "  - [Numba \\+ Parallel processing test](#section3.5)\n",
    "  - [Optimization analysis](#section3.6)\n",
    "    - [Combining results](#section3.7)\n",
    "- [Nearest Neighbour Algorithm](#section4)\n",
    "- [Implement the Metropolis Algorithm](#section5)\n",
    "  - [Animation of the Metropolis Algorithm](#section5.1)\n",
    "- [Ising Model Simulation with Metropolis Algorithm](#section5.2)\n",
    "- [Critical Temperature Estimation for Ising Model](#section8)\n",
    "  - [Investigating Magnetization Distribution and Critical Temperature Across Lattice Sizes](#section8.1)\n",
    "  - [Linear Regression for Final $T'$ Value](#section8.4)\n",
    "- [Calculating the Curie Temperature of Metals  \n",
    "  ](#section8.5)\n",
    "\n"
   ]
  },
  {
   "cell_type": "markdown",
   "metadata": {
    "collapsed": false,
    "jupyter": {
     "source_hidden": false
    }
   },
   "source": [
    "### This cell contains (almost) all the defined functions within this notebook, each accompanied by a concise description of its functionality and parameters, as well as its return values.\n",
    "\n",
    "### Each function is optimised using Numba, and parallel processing is employed where applicable for enhanced performance.\n",
    "\n",
    "This cell serves the purpose of convenience by consolidating all necessary code blocks in one place. It eliminates the need to manually run each block individually everytime the notebook is opened.\n",
    "\n",
    "Some blocks still contain defined functions, but these are specific to that block and don't appear anywhere else (usually).\n",
    "\n",
    "[Link to Index](#index)<a id='section1'></a>\n",
    "\n"
   ]
  },
  {
   "cell_type": "code",
   "execution_count": null,
   "metadata": {
    "collapsed": false,
    "jupyter": {
     "source_hidden": false
    }
   },
   "outputs": [],
   "source": [
    "print('Initialising')\n",
    "import time\n",
    "Initialisation_start = time.perf_counter()\n",
    "import threading\n",
    "import numpy as np\n",
    "import matplotlib.pyplot as plt\n",
    "import matplotlib.patches as mpatches\n",
    "import matplotlib.cm as cm\n",
    "from tqdm.notebook import tqdm\n",
    "from scipy.signal import savgol_filter\n",
    "import numba as nb\n",
    "from numba import jit, njit, prange\n",
    "from multiprocessing import Process, Manager\n",
    "import multiprocessing as mp\n",
    "from matplotlib.colors import LinearSegmentedColormap\n",
    "from matplotlib.animation import PillowWriter\n",
    "from matplotlib.animation import FuncAnimation\n",
    "\n",
    "\n",
    "@njit(parallel=True)\n",
    "def randomlattice(N, M):\n",
    "    \"\"\"\n",
    "    \n",
    "    Generates a random lattice with dimension NxM filled with spins randomly set to either +1 or -1.\n",
    "    \n",
    "    Parameters:\n",
    "        N (int): Number of rows in the lattice.\n",
    "        M (int): Number of columns in the lattice.\n",
    "        \n",
    "    Returns:\n",
    "        ndarray: A 2D array representing the generated lattice\n",
    "    \"\"\"\n",
    "    lattice = np.zeros((N, M), dtype=np.int64)\n",
    "    for i in prange(N):\n",
    "        for j in prange(M):\n",
    "            lattice[i, j] = 1 if np.random.rand() < 0.5 else -1\n",
    "    return lattice\n",
    "\n",
    "\n",
    "def plotlattice(lattice):\n",
    "    \"\"\"\n",
    "    Plots the given lattice using matplotlib imshow function.\n",
    "\n",
    "    Parameters:\n",
    "        lattice (ndarray): A 2D array representing the lattice to be plotted.\n",
    "    Outputs: \n",
    "        Visualised array using binary cmap, +1 (Black), -1 (White).\n",
    "    \"\"\"\n",
    "    plt.imshow(lattice, cmap='binary', interpolation='nearest')\n",
    "    plt.show()\n",
    "\n",
    "\n",
    "def plotlattice_modified(lattice, ax):\n",
    "    \"\"\"\n",
    "    Plots the given lattice using matplotlib imshow function on a specified axis.\n",
    "\n",
    "    Parameters:\n",
    "        lattice (ndarray): A 2D array representing the lattice to be plotted.\n",
    "        ax (matplotlib.axes.Axes): The axis on which the lattice is plotted.\n",
    "    Outputs: \n",
    "        Visualised array using binary cmap, +1 (Black), -1 (White).\n",
    "    \"\"\"\n",
    "    ax.imshow(lattice, cmap='binary', interpolation='nearest')\n",
    "\n",
    "\n",
    "#@njit(parallel=True)\n",
    "def combined_spin_func(lattice,i,j):\n",
    "    \"\"\"\n",
    "    Calculates the combined spin value for each lattice site by summing over the spins of its neighboring sites.\n",
    "\n",
    "    Parameters:\n",
    "        lattice (ndarray): A 2D array representing the lattice.\n",
    "\n",
    "    Returns:\n",
    "        ndarray: 1D array containing the combined spin value for each lattice site.\n",
    "    \"\"\"\n",
    "    N,M = lattice.shape\n",
    "    combined_spin = (\n",
    "            lattice[i - 1, j] +  # Top neighbor\n",
    "            lattice[(i + 1) % N, j] +  # Bottom neighbor\n",
    "            lattice[i, j - 1] +  # Left neighbor\n",
    "            lattice[i, (j + 1) % M]  # Right neighbor\n",
    "    )\n",
    "    return combined_spin\n",
    "\n",
    "\n",
    "def calculate_dE(lattice, i, j):\n",
    "    \"\"\"\n",
    "    Calculates the change in energy (dE) for a spin flip at a given lattice site.\n",
    "\n",
    "    Parameters:\n",
    "        lattice (ndarray): A 2D array representing the lattice.\n",
    "        i (int): Row index of the lattice site.\n",
    "        j (int): Column index of the lattice site.\n",
    "\n",
    "    Returns:\n",
    "        int: Change in energy (dE) due to the spin flip.\n",
    "    \"\"\"\n",
    "    current_spin = lattice[i, j]\n",
    "    combined_spin = combined_spin_func(lattice, i, j)\n",
    "    dE = 2 * current_spin * combined_spin\n",
    "    return dE\n",
    "\n",
    "\n",
    "@njit(parallel=True)\n",
    "def metropolis(lattice, T_prime):\n",
    "    \"\"\"\n",
    "    Performs the Metropolis algorithm for a given lattice at a given temperature.\n",
    "\n",
    "    Parameters:\n",
    "        lattice (ndarray): A 2D array representing the lattice.\n",
    "        T_prime (float): The temperature parameter.\n",
    "\n",
    "    Returns:\n",
    "        ndarray: The updated lattice after applying the Metropolis algorithm.\n",
    "    \"\"\"\n",
    "    N, M = lattice.shape\n",
    "    random_indices = (np.random.rand(N * M) * (N * M)).astype(np.int64)\n",
    "    def calculate_dE(lattice, i, j):\n",
    "        \"\"\"\n",
    "        Calculates the change in energy (dE) for a spin flip at a given lattice site.\n",
    "\n",
    "        Parameters:\n",
    "            lattice (ndarray): A 2D array representing the lattice.\n",
    "            i (int): Row index of the lattice site.\n",
    "            j (int): Column index of the lattice site.\n",
    "\n",
    "        Returns:\n",
    "            int: Change in energy (dE) due to the spin flip.\n",
    "        \"\"\"\n",
    "\n",
    "        current_spin = lattice[i, j]\n",
    "        combined_spin = (\n",
    "            lattice[i - 1, j] +  # Top neighbor\n",
    "            lattice[(i + 1) % N, j] +  # Bottom neighbor\n",
    "            lattice[i, j - 1] +  # Left neighbor\n",
    "            lattice[i, (j + 1) % M]  # Right neighbor\n",
    "        )\n",
    "        dE = 2 * current_spin * combined_spin\n",
    "        return dE\n",
    "    for idx in prange(N * M):\n",
    "        flat_index = random_indices[idx]\n",
    "        i, j = flat_index // M, flat_index % M\n",
    "        dE = calculate_dE(lattice, i, j)  # Use calculate_dE inline\n",
    "        probability = np.exp(-dE / T_prime)\n",
    "        r = np.random.rand()\n",
    "        if r < probability or dE < 0:\n",
    "            lattice[i, j] *= -1\n",
    "    return lattice\n",
    "\n",
    "\n",
    "@njit(parallel=True)\n",
    "def metropolis_tracker(lattice, T_prime, dE_tracker):\n",
    "    \"\"\"\n",
    "    Performs the Metropolis algorithm for a given lattice at a given temperature while tracking changes in energy.\n",
    "\n",
    "    Parameters:\n",
    "        lattice (ndarray): A 2D array representing the lattice.\n",
    "        T_prime (float): The temperature parameter.\n",
    "        dE_tracker (ndarray): A 1D array to track changes in energy.\n",
    "\n",
    "    Returns:\n",
    "        ndarray: The updated lattice after applying the Metropolis algorithm.\n",
    "    \"\"\"\n",
    "    N, M = lattice.shape\n",
    "    random_indices = (np.random.rand(N * M) * (N * M)).astype(np.int64)\n",
    "    def calculate_dE(lattice, i, j):\n",
    "        current_spin = lattice[i, j]\n",
    "        combined_spin = (\n",
    "            lattice[i - 1, j] +  # Top neighbor\n",
    "            lattice[(i + 1) % N, j] +  # Bottom neighbor\n",
    "            lattice[i, j - 1] +  # Left neighbor\n",
    "            lattice[i, (j + 1) % M]  # Right neighbor\n",
    "        )\n",
    "        dE = 2 * current_spin * combined_spin\n",
    "        if -4 <= dE <= 4:\n",
    "            dE_tracker[i * M + j] = True\n",
    "        else:\n",
    "            dE_tracker[i * M + j] = False\n",
    "        return dE\n",
    "    for idx in prange(N * M):\n",
    "        flat_index = random_indices[idx]\n",
    "        i, j = flat_index // M, flat_index % M\n",
    "        dE = calculate_dE(lattice, i, j)\n",
    "        probability = np.exp(-dE / T_prime)\n",
    "        r = np.random.rand()\n",
    "        if r < probability or dE < 0:\n",
    "            lattice[i, j] *= -1\n",
    "    return lattice\n",
    "\n",
    "\n",
    "@njit(parallel=True)\n",
    "def total_magnetisation(lattice):\n",
    "    \"\"\"\n",
    "    Computes the total magnetisation of the lattice.\n",
    "\n",
    "    Parameters:\n",
    "        lattice (ndarray): A 2D array representing the lattice.\n",
    "\n",
    "    Returns:\n",
    "        int: Total magnetisation of the lattice.\n",
    "    \"\"\"\n",
    "    return np.sum(lattice)\n",
    "\n",
    "\n",
    "@njit(parallel=True)\n",
    "def average_magnetisation_perspin(lattice):\n",
    "    \"\"\"\n",
    "    Computes the average magnetisation per spin of the lattice.\n",
    "\n",
    "    Parameters:\n",
    "        lattice (ndarray): A 2D array representing the lattice.\n",
    "\n",
    "    Returns:\n",
    "        float: Average magnetisation per spin of the lattice.\n",
    "    \"\"\"\n",
    "    return total_magnetisation(lattice) / lattice.size\n",
    "\n",
    "\n",
    "def calculate_energy(lattice, N, M):\n",
    "    \"\"\"\n",
    "    Calculates the total energy of the lattice.\n",
    "\n",
    "    Parameters:\n",
    "        lattice (ndarray): A 2D array representing the lattice.\n",
    "        N (int): Number of rows in the lattice.\n",
    "        M (int): Number of columns in the lattice.\n",
    "\n",
    "    Returns:\n",
    "        float: Total energy of the lattice.\n",
    "    \"\"\"\n",
    "    energy = 0\n",
    "    for i in prange(N):\n",
    "        for j in range(M):\n",
    "            energy += calculate_dE(lattice, i, j)\n",
    "    return energy / 2  # Dividing by 2 to avoid double-counting interactions\n",
    "\n",
    "@njit(parallel=True)\n",
    "def compute_gradient(magnetisation_means, Temp_range):\n",
    "    \"\"\"\n",
    "    Computes the gradient of magnetisation means with respect to temperature range.\n",
    "\n",
    "    Parameters:\n",
    "        magnetisation_means (ndarray): Array containing mean magnetisation values.\n",
    "        Temp_range (ndarray): Array containing temperature range values.\n",
    "\n",
    "    Returns:\n",
    "        ndarray: Gradient of magnetisation means.\n",
    "    \"\"\"\n",
    "    derivative_magnetisation = np.zeros_like(Temp_range)\n",
    "    for i in prange(1, len(Temp_range) - 1):\n",
    "        derivative_magnetisation[i] = (\n",
    "            magnetisation_means[i + 1] - magnetisation_means[i - 1]) / (\n",
    "                Temp_range[i + 1] - Temp_range[i - 1])\n",
    "    return derivative_magnetisation\n",
    "\n",
    "\n",
    "def update(frame):\n",
    "    \"\"\"\n",
    "    Updates the lattice plot for each frame in animation.\n",
    "\n",
    "    Parameters:\n",
    "        frame (int): Frame number of the animation.\n",
    "\n",
    "    Returns:\n",
    "        list: Updated image and title elements.\n",
    "    \"\"\"\n",
    "    global lattice\n",
    "    lattice = metropolis(lattice, T_prime)\n",
    "    fraction_ones = np.count_nonzero(lattice == 1) / (N * M)\n",
    "    title.set_text(f'Lattice Evolution - Iteration: {frame + 1}, Magnitude = {fraction_ones:.2f}')\n",
    "    im.set_array(lattice)\n",
    "    return [im, title]\n",
    "\n",
    "\n",
    "@njit\n",
    "def simulate_metropolis(N_mc, T_prime, lattice, N, M):\n",
    "    \"\"\"\n",
    "    Simulates the Ising model using the Metropolis algorithm.\n",
    "\n",
    "    Parameters:\n",
    "        N_mc (int): Number of Monte Carlo steps.\n",
    "        T_prime (float): The temperature parameter.\n",
    "        lattice (ndarray): A 2D array representing the lattice.\n",
    "        N (int): Number of rows in the lattice.\n",
    "        M (int): Number of columns in the lattice.\n",
    "\n",
    "    Returns:\n",
    "        tuple: Containing magnetisation history, susceptibility history, heat capacity history, and lattice energy history.\n",
    "    \"\"\"\n",
    "    magnetisation_history = []\n",
    "    susceptibility_history = []\n",
    "    heat_capacity_history = []\n",
    "    lattice_energy_history = []\n",
    "\n",
    "    previous_magnetisation = 0\n",
    "    stable_count = 0\n",
    "\n",
    "    for _ in range(N_mc):\n",
    "        lattice = metropolis(lattice, T_prime)\n",
    "        magnetisation = average_magnetisation_perspin(lattice)\n",
    "        magnetisation_history.append(magnetisation)\n",
    "        susceptibility = (\n",
    "            (np.mean(np.array(magnetisation_history)) - magnetisation) /\n",
    "            (T_prime * N * M))\n",
    "        susceptibility_history.append(susceptibility)\n",
    "        energy = calculate_energy(lattice, N, M)\n",
    "        lattice_energy_history.append(energy)\n",
    "        heat_capacity = (np.mean(np.array(lattice_energy_history)) -\n",
    "                         energy**2) / (T_prime**2 * N * M)\n",
    "        heat_capacity_history.append(heat_capacity)\n",
    "        if magnetisation == previous_magnetisation:\n",
    "            stable_count += 1\n",
    "        else:\n",
    "            stable_count = 0\n",
    "        if stable_count >= 500:\n",
    "            break\n",
    "        previous_magnetisation = magnetisation\n",
    "\n",
    "    return (magnetisation_history, susceptibility_history,\n",
    "            heat_capacity_history, lattice_energy_history)\n",
    "\n",
    "\n",
    "@njit(parallel=True)\n",
    "def simulate_lattice(N, M, Temp_range, N_mc):\n",
    "    \"\"\"\n",
    "    Simulates the Ising model for a lattice with a range of temperatures.\n",
    "\n",
    "    Parameters:\n",
    "        N (int): Number of rows in the lattice.\n",
    "        M (int): Number of columns in the lattice.\n",
    "        Temp_range (ndarray): Array containing temperature range values.\n",
    "        N_mc (int): Number of Monte Carlo steps.\n",
    "\n",
    "    Returns:\n",
    "        tuple: Tuple containing magnetisation means, magnetisation standard errors, and estimated critical temperature.\n",
    "    \"\"\"\n",
    "    magnetisation_means = np.zeros(len(Temp_range))\n",
    "    magnetisation_stderrs = np.zeros(len(Temp_range))\n",
    "\n",
    "    for idx in prange(len(Temp_range)):\n",
    "        T_prime = Temp_range[idx]\n",
    "        magnetisation_history = []\n",
    "        lattice = randomlattice(N, M)\n",
    "\n",
    "        for _ in range(N_mc):\n",
    "            lattice = metropolis(lattice, T_prime)\n",
    "            magnetisation = abs(average_magnetisation_perspin(lattice))\n",
    "            magnetisation_history.append(magnetisation)\n",
    "\n",
    "        magnetisation_means[idx] = np.mean(np.array(magnetisation_history))\n",
    "        magnetisation_stderrs[idx] = np.std(np.array(magnetisation_history))\n",
    "\n",
    "    derivative_magnetisation = compute_gradient(magnetisation_means,\n",
    "                                                Temp_range)\n",
    "    restricted_range = Temp_range[Temp_range > 1.0]\n",
    "    restricted_gradient = derivative_magnetisation[Temp_range > 1.0]\n",
    "    max_derivative_index = np.argmax(np.abs(restricted_gradient))\n",
    "    estimated_critical_temperature = restricted_range[max_derivative_index]\n",
    "\n",
    "    return magnetisation_means, magnetisation_stderrs, estimated_critical_temperature\n",
    "\n",
    "\n",
    "@njit(parallel=True)\n",
    "def simulate_lattice_derivative(Temp_range, N, M, N_mc):\n",
    "    \"\"\"\n",
    "    Simulates the Ising model for a lattice with a range of temperatures.\n",
    "\n",
    "    Parameters:\n",
    "        N (int): Number of rows in the lattice.\n",
    "        M (int): Number of columns in the lattice.\n",
    "        Temp_range (ndarray): Array containing temperature range values.\n",
    "        N_mc (int): Number of Monte Carlo steps.\n",
    "\n",
    "    Returns:\n",
    "        tuple: Containing magnetisation means, magnetisation standard errors, derivative of magnetisation means, and estimated critical temperature.\n",
    "    \"\"\"\n",
    "    Ntemps = len(Temp_range)\n",
    "    magnetisation_means = np.zeros(Ntemps)\n",
    "    magnetisation_stderrs = np.zeros(Ntemps)\n",
    "    derivative_magnetisation = np.zeros(Ntemps)\n",
    "\n",
    "    for idx in prange(Ntemps):\n",
    "        T_prime = Temp_range[idx]\n",
    "        magnetisation_history = []\n",
    "        lattice = randomlattice(N, M)\n",
    "        for _ in range(N_mc):\n",
    "            lattice = metropolis(lattice, T_prime)\n",
    "            magnetisation = abs(average_magnetisation_perspin(lattice))\n",
    "            magnetisation_history.append(magnetisation)\n",
    "        magnetisation_means[idx] = np.mean(np.array(magnetisation_history))\n",
    "        magnetisation_stderrs[idx] = np.std(np.array(magnetisation_history))\n",
    "\n",
    "    for i in prange(1, Ntemps - 1):\n",
    "        derivative_magnetisation[i] = (\n",
    "            magnetisation_means[i + 1] - magnetisation_means[i - 1]) / (\n",
    "                Temp_range[i + 1] - Temp_range[i - 1])\n",
    "\n",
    "    max_derivative_index = np.argmax(np.abs(derivative_magnetisation))\n",
    "    estimated_critical_temperature = Temp_range[max_derivative_index]\n",
    "\n",
    "    return magnetisation_means, magnetisation_stderrs, derivative_magnetisation, estimated_critical_temperature\n",
    "\n",
    "@njit(parallel=True)\n",
    "def my_mean(array):\n",
    "    \"\"\"\n",
    "    Takes an array and calculates the mean, necessary where np.mean() can't be used directly.\n",
    "    \n",
    "    Parameters: \n",
    "        arr (array): an array being processed\n",
    "        \n",
    "    Returns: \n",
    "        float: mean value of the array\n",
    "    \"\"\"\n",
    "    acc = arr[0] * 1.0\n",
    "    for i in prange(len(arr)):\n",
    "        acc += val[i]\n",
    "    return acc / len(arr)\n",
    "\n",
    "@njit(parallel=True)\n",
    "def calculate_susceptibility_and_heat_capacity(magnetisation, lattice_energy, T_prime):\n",
    "    \"\"\"\n",
    "    Calculates the susceptibility and heat capacity the lattice system.\n",
    "\n",
    "    Parameters:\n",
    "        magnetisation (ndarray): Array containing magnetisation values.\n",
    "        lattice_energy (ndarray): Array containing lattice energy values.\n",
    "        T_prime (float): The temperature parameter.\n",
    "\n",
    "    Returns:\n",
    "        tuple: A tuple containing the susceptibility and heat capacity values.\n",
    "    \"\"\"\n",
    "    magnetisation_sq = np.square(magnetisation)\n",
    "    lattice_energy_sq = np.square(lattice_energy)\n",
    "    susceptibility = (np.mean(magnetisation_sq) - np.mean(magnetisation) ** 2) / T_prime\n",
    "    heat_capacity = (np.mean(lattice_energy_sq) - np.mean(lattice_energy) ** 2) / (T_prime ** 2)\n",
    "    return susceptibility, heat_capacity\n",
    "\n",
    "# For benchmarking tests\n",
    "def generate_lattices_one_by_one(N, num_iterations):\n",
    "    execution_times = []\n",
    "    for _ in range(num_iterations):\n",
    "        start_time = time.perf_counter()\n",
    "        lattice = randomlattice_obo(N, N)\n",
    "        end_time = time.perf_counter()\n",
    "        execution_times.append((end_time - start_time) * 1e6)\n",
    "    return execution_times\n",
    "\n",
    "\n",
    "def generate_lattices_batch(N, num_iterations, num_lattices):\n",
    "    execution_times = []\n",
    "    for _ in range(num_iterations):\n",
    "        batch_execution_times = []\n",
    "        for _ in range(num_lattices):\n",
    "            start_time = time.perf_counter()\n",
    "            lattices = randomlattice_batch(N, N)\n",
    "            end_time = time.perf_counter()\n",
    "            batch_execution_times.append((end_time - start_time) * 1e6)\n",
    "        execution_times.append(sum(batch_execution_times) / num_lattices)\n",
    "    return execution_times\n",
    "\n",
    "\n",
    "def generate_lattices_multithreading(N, num_iterations,execution_times):\n",
    "    for _ in range(num_iterations):\n",
    "        start_time = time.perf_counter()\n",
    "        lattice = randomlattice_multithreading(N,N)\n",
    "        end_time = time.perf_counter()\n",
    "        execution_times.append((end_time - start_time) * 1e6)\n",
    "\n",
    "\n",
    "def generate_lattices_multiprocessing(N, num_iterations, execution_times):\n",
    "    for _ in range(num_iterations):\n",
    "        start_time = time.perf_counter()\n",
    "        lattice = randomlattice_multiprocessing(N, N)\n",
    "        end_time = time.perf_counter()\n",
    "        execution_times.append((end_time - start_time) * 1e6)\n",
    "\n",
    "\n",
    "@njit(parallel=True)\n",
    "def generate_lattices_parallel(N, num_iterations):\n",
    "    for _ in prange(num_iterations):\n",
    "        lattice = randomlattice(N, N)\n",
    "    return 'done'\n",
    "        \n",
    "## Global variables ##\n",
    "N_mc = 1000  # Number of monte carlo steps\n",
    "N = 100  # Lattice size initially, gets overridden in most cells\n",
    "M = N\n",
    "T_prime = 0.5 # Dimensionless temperature quantity\n",
    "Temp_range = np.arange(0.1, 5, 0.01) # Range of dimensionless temperatures\n",
    "Initialisation_end = time.perf_counter()\n",
    "print(f'Initialisation completed in - {np.round((Initialisation_end-Initialisation_start)*1e3,4)}ms ')"
   ]
  },
  {
   "cell_type": "markdown",
   "metadata": {
    "collapsed": false,
    "jupyter": {
     "source_hidden": false
    }
   },
   "source": [
    "# Random Lattice Generation with Visualisation\n",
    "\n",
    "The Ising model is based around random lattice generation, which simulates particle interactions, if each cell of the lattice were a particle, then we can simulate, using the Ising model, some interesting physical properties of materials.\n",
    "But we have to start somewhere, and we start with a simple lattice generation. \n",
    "The **randomlattice** function is employed to simulate this. \n",
    "\n",
    "It doesn't like it, but you can get cocalc to do a 9150x9150 lattice without running out of memory.\n",
    "However I did manage to get my python IDE to generate a 25x25 thousand lattice.\n",
    "[Link to Index](#index)<a id='section2'></a>\n"
   ]
  },
  {
   "cell_type": "code",
   "execution_count": null,
   "metadata": {
    "collapsed": false,
    "jupyter": {
     "source_hidden": false
    }
   },
   "outputs": [],
   "source": [
    "N = 2000\n",
    "M = N\n",
    "lattice = randomlattice(N, M)\n",
    "plotlattice(lattice)"
   ]
  },
  {
   "cell_type": "markdown",
   "metadata": {
    "collapsed": false,
    "jupyter": {
     "source_hidden": false
    }
   },
   "source": [
    "![image](https://raw.githubusercontent.com/Voodooshrimp/Ising-model-2D/Ising2D/Images/25klattice.png)\n"
   ]
  },
  {
   "cell_type": "markdown",
   "metadata": {
    "collapsed": false,
    "jupyter": {
     "source_hidden": false
    }
   },
   "source": [
    "# Efficiency Benchmarking for Random Lattice Generation\n",
    "\n",
    "The next few cells are testing cells, where we iterate through 100,000 generations of the random lattice to see how efficient that method is, it is important later on as there will be millions/billions of these created and processed, so the efficiency of the base of this project is paramount to efficient loops later on. The tests were done for 100,000 lattices for increasing lattice sizes, for the testing, sizes of N = [5, 25, 64 128], where M = N for a lattice of size NxM.\n",
    "\n",
    "- The first cell simply generates the lattices one at a time.\n",
    " - The second cell utilises batch generation with pre\\-allocated memory.\n",
    " This method generates 100 batches of 1000 lattices in a preallocated empty lattice space.\n",
    "- The third cell utilises multithreading \n",
    "Multithreading allows for slight overlapping of generations instead of waiting for the last one to complete before starting the next, python is not optimised for multithreading, however there can be slight improvements seen.\n",
    "- The fourth cell utlises multiprocessing\n",
    "Multiprocessing allows for optimal use of CPU cores to run multiple iterations in parallel, this method is the most promising for optimisations.\n",
    "- The fifth method utlises Numba and parallel processing\n",
    "Numba is a just-in-time compiler for Python that translates Python functions to optimized machine code, accelerating numerical computations. Parallel processing involves distributing computational tasks across multiple CPU cores or GPUs simultaneously, improving efficiency by leveraging parallelism to execute tasks concurrently.\n",
    "\n",
    "[Link to Index](#index)<a id='section3'></a>"
   ]
  },
  {
   "cell_type": "markdown",
   "metadata": {
    "collapsed": false,
    "jupyter": {
     "source_hidden": false
    }
   },
   "source": [
    "# One by one test\n",
    "[Link to Index](#index)<a id='section3.1'></a>"
   ]
  },
  {
   "cell_type": "code",
   "execution_count": null,
   "metadata": {
    "collapsed": false,
    "jupyter": {
     "source_hidden": false
    }
   },
   "outputs": [],
   "source": [
    "\n",
    "N = [5, 25, 64, 128]\n",
    "M = N\n",
    "num_iterations = 1000\n",
    "execution_times = []\n",
    "\n",
    "def randomlattice_obo(N, M):\n",
    "    return np.random.choice([-1, 1], size=(N, M))\n",
    "\n",
    "for i in N:\n",
    "    for _ in range(num_iterations):\n",
    "        start_time = time.perf_counter()\n",
    "        lattice = randomlattice_obo(i, i)\n",
    "        end_time = time.perf_counter()\n",
    "        execution_times.append((end_time - start_time) * 1e6)\n",
    "average_time = sum(execution_times) / num_iterations\n",
    "plt.scatter(range(num_iterations * len(N)),\n",
    "            execution_times,\n",
    "            color='dodgerblue',\n",
    "            marker=\".\",\n",
    "            s=0.5)\n",
    "plt.ylim(0, 500)\n",
    "plt.xlabel('iteration')\n",
    "plt.ylabel('Time (microseconds)')\n",
    "for x in range(len(N)):\n",
    "    plt.axvline(x=x*num_iterations,color='green',linestyle='--')\n",
    "    plt.text(x*num_iterations+num_iterations/4, 400, f'{N[x]}$^2$ Lattice', fontsize=12, color='red')\n",
    "plt.title(\n",
    "    f'Execution times for random lattice generation, average time = {round(average_time,4)}μs, one by one method'\n",
    ")\n",
    "plt.show()"
   ]
  },
  {
   "cell_type": "markdown",
   "metadata": {
    "collapsed": false,
    "jupyter": {
     "source_hidden": false
    }
   },
   "source": [
    "![image](https://raw.githubusercontent.com/Voodooshrimp/Ising-model-2D/Ising2D/Images/onebyone.png)"
   ]
  },
  {
   "cell_type": "markdown",
   "metadata": {
    "collapsed": false,
    "jupyter": {
     "source_hidden": false
    }
   },
   "source": [
    "# Batch generation test\n",
    "[Link to Index](#index)<a id='section3.2'></a>\n",
    "100 batches of 1000 lattices  \n",
    "\n"
   ]
  },
  {
   "cell_type": "code",
   "execution_count": null,
   "metadata": {
    "collapsed": false,
    "jupyter": {
     "source_hidden": false
    }
   },
   "outputs": [],
   "source": [
    "N = [5,25,64,128]\n",
    "M = N\n",
    "\n",
    "num_lattices = 100\n",
    "num_iterations = 10\n",
    "execution_times = []\n",
    "def randomlattice_batch(N, M):\n",
    "    return np.random.choice([-1, 1], size=(N, M))\n",
    "\n",
    "for i in N:\n",
    "    for _ in range(num_iterations):\n",
    "        lattices = np.empty((num_lattices, i, i), dtype=np.int8)\n",
    "        start_time = time.perf_counter()\n",
    "        for j in range(num_lattices):\n",
    "            lattices[j] = randomlattice_batch(i, i)\n",
    "        end_time = time.perf_counter()\n",
    "        execution_times.append((end_time - start_time) * 1e6)\n",
    "execution_times = np.array(execution_times).flatten()\n",
    "average_time = round(sum(execution_times) / (num_iterations*num_lattices),4)\n",
    "plt.scatter(range(num_iterations*len(N)), execution_times/num_lattices, color='blue', alpha=0.5,s=1)\n",
    "plt.ylim(0, 500)\n",
    "plt.xlabel('iteration')\n",
    "plt.ylabel('Time (microseconds)')\n",
    "for x in range(len(N)):\n",
    "    plt.axvline(x=x*num_iterations,color='green',linestyle='--')\n",
    "    plt.text(x*num_iterations+num_iterations/4, 400, f'{N[x]}$^2$ Lattice', fontsize=12, color='red')\n",
    "plt.title(f'Execution times for random lattice generation, average time = {round(average_time,4)}μs, 100 batches of 1000 lattices')\n",
    "plt.show()"
   ]
  },
  {
   "cell_type": "markdown",
   "metadata": {
    "collapsed": false,
    "jupyter": {
     "source_hidden": false
    }
   },
   "source": [
    "![image](https://raw.githubusercontent.com/Voodooshrimp/Ising-model-2D/Ising2D/Images/Batchgeneration.png)"
   ]
  },
  {
   "cell_type": "markdown",
   "metadata": {
    "collapsed": false,
    "jupyter": {
     "source_hidden": false
    }
   },
   "source": [
    "# Multithreading test\n",
    "\n",
    "The values are in microseconds, it's a typo in the plot, however running this method in cocalc takes a very long time.\\\n",
    "Cocalc only offers 1 core CPU so multithreading is not possible here.\n",
    "\n"
   ]
  },
  {
   "cell_type": "raw",
   "metadata": {
    "collapsed": false,
    "jupyter": {
     "source_hidden": false
    }
   },
   "source": [
    "import threading\n",
    "N = [5, 25, 64, 128]\n",
    "num_iterations = 100000\n",
    "execution_times = [] \n",
    "\n",
    "threads = []\n",
    "for n in N:\n",
    "    thread = threading.Thread(target=generate_lattices_multithreading, args = (n, num_iterations,execution_times))\n",
    "    threads.append(thread)\n",
    "    thread.start()\n",
    "    \n",
    "for thread in threads:\n",
    "    thread.join()\n",
    "\n",
    "average_time = sum(execution_times) / num_iterations\n",
    "print(len(execution_times))\n",
    "plt.scatter(range(num_iterations * len(N)),\n",
    "            execution_times,\n",
    "            color='dodgerblue',\n",
    "            marker=\".\",\n",
    "            s=0.5)\n",
    "plt.ylim(0, 1000)\n",
    "plt.xlabel('iteration')\n",
    "plt.ylabel('Time (nanoseconds)')\n",
    "for x in range(len(N)):\n",
    "    plt.axvline(x=x*num_iterations,color='green',linestyle='--')\n",
    "    plt.text(x*num_iterations+num_iterations/4, 800, f'{N[x]}$^2$ Lattice', fontsize=12, color='red')\n",
    "plt.title(\n",
    "    f'Execution times for random lattice generation, average time = {round(average_time,4)}ns, using multithreading'\n",
    ")\n",
    "plt.show()\n",
    "del threading"
   ]
  },
  {
   "cell_type": "markdown",
   "metadata": {
    "collapsed": false,
    "jupyter": {
     "source_hidden": false
    }
   },
   "source": [
    "![](https://raw.githubusercontent.com/Voodooshrimp/Ising-model-2D/Ising2D/Images/multithreading.png)"
   ]
  },
  {
   "cell_type": "markdown",
   "metadata": {
    "collapsed": false,
    "jupyter": {
     "source_hidden": false
    }
   },
   "source": [
    "## Run this cell to remove the conflicting modules that stop multiprocessing from functioning"
   ]
  },
  {
   "cell_type": "code",
   "execution_count": null,
   "metadata": {
    "collapsed": false,
    "jupyter": {
     "source_hidden": false
    }
   },
   "outputs": [],
   "source": [
    "import sys\n",
    "def remove_modules(modules_to_remove):\n",
    "    for module in modules_to_remove:\n",
    "        if module in sys.modules:\n",
    "            del sys.modules[module]\n",
    "        if module in globals():\n",
    "            del globals()[module]\n",
    "def restore_modules():\n",
    "    from numba import jit, njit, prange\n",
    "    import numba as n\n",
    "    import threading\n",
    "    import time\n",
    "\n",
    "modules_to_remove = ['threading', 'numba']\n",
    "remove_modules(modules_to_remove)"
   ]
  },
  {
   "cell_type": "markdown",
   "metadata": {
    "collapsed": false,
    "jupyter": {
     "source_hidden": false
    }
   },
   "source": [
    "# Multiprocessing test\n",
    "[Link to Index](#index)<a id='section3.4'></a>\n",
    "The benefits of multiprocessing become apparent when doing larger more complex calculations.\n"
   ]
  },
  {
   "cell_type": "code",
   "execution_count": null,
   "metadata": {
    "collapsed": false,
    "jupyter": {
     "source_hidden": false
    }
   },
   "outputs": [],
   "source": [
    "import numpy as np\n",
    "import time\n",
    "import matplotlib.pyplot as plt\n",
    "from multiprocessing import Process, Manager\n",
    "\n",
    "def randomlattice_multiprocessing(N, M):\n",
    "    return np.random.choice([-1, 1], size=(N, M))\n",
    "\n",
    "def generate_lattices(N, num_iterations, execution_times):\n",
    "    for _ in range(num_iterations):\n",
    "        start_time = time.perf_counter()\n",
    "        lattice = randomlattice_multiprocessing(N, N)\n",
    "        end_time = time.perf_counter()\n",
    "        execution_times.append((end_time - start_time) * 1e6)\n",
    "\n",
    "if __name__ == '__main__':\n",
    "    N = [5, 25, 64, 128]\n",
    "    num_iterations = 1000\n",
    "    execution_times = Manager().list()\n",
    "\n",
    "    processes = []\n",
    "    for n in N:\n",
    "        process = Process(target=generate_lattices, args=(n, num_iterations, execution_times))\n",
    "        processes.append(process)\n",
    "        process.start()\n",
    "    for process in processes:\n",
    "        process.join()\n",
    "    average_time = sum(execution_times) / (len(N) * num_iterations)\n",
    "    plt.scatter(range(num_iterations * len(N)),\n",
    "                execution_times,\n",
    "                color='dodgerblue',\n",
    "                marker=\".\",\n",
    "                s=0.5)\n",
    "    plt.ylim(0, 500)\n",
    "    plt.xlabel('iteration')\n",
    "    plt.ylabel('Time (microseconds)')\n",
    "    for x in range(len(N)):\n",
    "        plt.axvline(x=x*num_iterations,color='green',linestyle='--')\n",
    "        plt.text(x*num_iterations+num_iterations/4, 400, f'{N[x]}$^2$ Lattice', fontsize=12, color='red')\n",
    "    plt.title(\n",
    "        f'Execution times for random lattice generation, average time = {round(average_time,4)}μs, using multiprocessing'\n",
    "    )\n",
    "    plt.show()\n"
   ]
  },
  {
   "cell_type": "markdown",
   "metadata": {
    "collapsed": false,
    "jupyter": {
     "source_hidden": false
    }
   },
   "source": [
    "![](https://raw.githubusercontent.com/Voodooshrimp/Ising-model-2D/Ising2D/Images/multiprocessing.png)\n",
    "\n"
   ]
  },
  {
   "cell_type": "code",
   "execution_count": null,
   "metadata": {
    "collapsed": false,
    "jupyter": {
     "source_hidden": false
    }
   },
   "outputs": [],
   "source": [
    "\"\"\"Add them back in please\"\"\"\n",
    "\n",
    "restore_modules()\n"
   ]
  },
  {
   "cell_type": "markdown",
   "metadata": {
    "collapsed": false,
    "jupyter": {
     "source_hidden": false
    }
   },
   "source": [
    "#### If you get errors from modules not being there, restart the kernel and go back to the package initialisation block and rerun it.\n",
    "<div style=\"text-align: left;\"><a href=\"#section1\">Link to package intialisation block</a></div>\n"
   ]
  },
  {
   "cell_type": "markdown",
   "metadata": {
    "collapsed": false,
    "jupyter": {
     "source_hidden": false
    }
   },
   "source": [
    "# Numba \\+ Parallel processing test\n",
    "\n",
    "I had a bit of trouble getting this to work in cocalc, but the image associated with it shows what it should be if I hadn't changed it all..\n",
    "[Link to Index](#index)<a id='section3.5'></a>"
   ]
  },
  {
   "cell_type": "code",
   "execution_count": null,
   "metadata": {
    "collapsed": false,
    "jupyter": {
     "source_hidden": false
    }
   },
   "outputs": [],
   "source": [
    "N = [5, 25, 64, 128]\n",
    "M = N\n",
    "num_iterations = 100\n",
    "execution_times = []\n",
    "\n",
    "for i in N:\n",
    "    starttime = time.perf_counter()\n",
    "    placeholder = generate_lattices_parallel(i,num_iterations)\n",
    "    stoptime = time.perf_counter()\n",
    "    execution_times.append(((stoptime-starttime)/num_iterations)*1e6)\n",
    "print(execution_times)\n",
    "average_time = np.mean(execution_times)\n",
    "plt.scatter(prange(len(N)),\n",
    "            execution_times,\n",
    "            color='dodgerblue',\n",
    "            marker=\".\",\n",
    "            s=100)\n",
    "plt.xlabel('iteration')\n",
    "plt.ylabel('Time (microseconds)')\n",
    "plt.ylim(0,750)\n",
    "for x in range(len(N)):\n",
    "    plt.axvline(x=x,color='green',linestyle='--')\n",
    "    plt.text(x, 400, f'{N[x]}$^2$ Lattice', fontsize=12, color='red')\n",
    "plt.title(\n",
    "    f'Execution times for random lattice generation, average time = {round(average_time,4)}μs, Numba + Parallel method'\n",
    ")\n",
    "plt.show()\n"
   ]
  },
  {
   "cell_type": "markdown",
   "metadata": {
    "collapsed": false,
    "jupyter": {
     "source_hidden": false
    }
   },
   "source": [
    "![](https://raw.githubusercontent.com/Voodooshrimp/Ising-model-2D/Ising2D/Images/Paralleltesting.png)"
   ]
  },
  {
   "cell_type": "markdown",
   "metadata": {
    "collapsed": false,
    "jupyter": {
     "source_hidden": false
    }
   },
   "source": [
    "# Optimisation analysis\n",
    "\n",
    "In the following cell, we put to the test each method of optimisation against each other, running each one 10 times for 1,000 lattices of sizes [5, 25, 64, 128], complete with standard deviation error bars.\n",
    "\n",
    "Now we're really putting python to the test too!\n",
    "\n",
    "This test didn't work out how I expected, it seems that multiprocessing works best when it is run alone.\n",
    "Okay that didn't work out, the multiprocessing version was running alongside all the other   \n",
    "versions giving inappropriately long average times. \n",
    "\n",
    "New method, each method gets it's own cell, then all the average times are appended to a list for processing.\n",
    "\n",
    "The processed average times for each method were appended to their own list, then the standard deviations were calculated given each method was run 10 times each for repeats.\n",
    "\n",
    "[Link to Index](#index)<a id='section3.6'></a>\n",
    "\n"
   ]
  },
  {
   "cell_type": "code",
   "execution_count": null,
   "metadata": {
    "collapsed": false,
    "jupyter": {
     "source_hidden": false
    },
    "scrolled": true
   },
   "outputs": [],
   "source": [
    "#Cell 1: One by one\n",
    "\n",
    "avg_times_one_by_one = []\n",
    "N = [5, 25, 64, 128]\n",
    "for n in N:\n",
    "    for _ in range(10):\n",
    "        execution_times_one_by_one = generate_lattices_one_by_one(n, 100)\n",
    "        avg_times_one_by_one.append(np.mean(execution_times_one_by_one))\n",
    "print(np.mean(avg_times_one_by_one))\n"
   ]
  },
  {
   "cell_type": "code",
   "execution_count": null,
   "metadata": {
    "collapsed": false,
    "jupyter": {
     "source_hidden": false
    },
    "scrolled": true
   },
   "outputs": [],
   "source": [
    "# Cell 2: Batch\n",
    "\n",
    "N = [5, 25, 64, 128]\n",
    "avg_times_batch = []\n",
    "for n in N:\n",
    "    for _ in range(10):\n",
    "        execution_times_batch = generate_lattices_batch(n, 10, 10)\n",
    "        avg_times_batch.append(np.mean(execution_times_batch))\n",
    "print(np.mean(avg_times_batch))\n",
    "\n"
   ]
  },
  {
   "cell_type": "raw",
   "metadata": {
    "collapsed": false,
    "jupyter": {
     "source_hidden": false
    }
   },
   "source": [
    "# Cell 3: Multithreading\n",
    "\n",
    "N = [5, 25, 64, 128]\n",
    "num_iterations = 100\n",
    "execution_times = [] \n",
    "\n",
    "threads = []\n",
    "for n in N:\n",
    "    thread = threading.Thread(target=generate_lattices, args = (n, num_iterations,execution_times))\n",
    "    threads.append(thread)\n",
    "    thread.start()\n",
    "    \n",
    "for thread in threads:\n",
    "    thread.join()\n",
    "\n",
    "average_time = sum(execution_times) / num_iterations\n",
    "print(len(execution_times))\n",
    "plt.scatter(range(num_iterations * len(N)),\n",
    "            execution_times,\n",
    "            color='dodgerblue',\n",
    "            marker=\".\",\n",
    "            s=0.5)\n",
    "plt.ylim(0, 1000)\n",
    "plt.xlabel('iteration')\n",
    "plt.ylabel('Time (microseconds)')\n",
    "for x in range(len(N)):\n",
    "    plt.axvline(x=x*num_iterations,color='green',linestyle='--')\n",
    "    plt.text(x*num_iterations+num_iterations/4, 800, f'{N[x]}$^2$ Lattice', fontsize=12, color='red')\n",
    "plt.title(\n",
    "    f'Execution times for random lattice generation, average time = {round(average_time,4)}μs, using multithreading'\n",
    ")\n",
    "plt.show()"
   ]
  },
  {
   "cell_type": "code",
   "execution_count": null,
   "metadata": {
    "collapsed": false,
    "jupyter": {
     "source_hidden": false
    },
    "scrolled": true
   },
   "outputs": [],
   "source": [
    "# Cell 4: Multiprocessing\n",
    "\n",
    "def generate_lattices_mp(N, num_iterations, execution_times):\n",
    "    iteration_execution_times = []\n",
    "    for _ in range(num_iterations):\n",
    "        start_time = time.perf_counter()\n",
    "        lattice = randomlattice_multiprocessing(N, N)\n",
    "        end_time = time.perf_counter()\n",
    "        iteration_execution_times.append((end_time - start_time) * 1e6)\n",
    "    execution_times.append(np.mean(iteration_execution_times))\n",
    "\n",
    "if __name__ == '__main__':\n",
    "    N = [5, 25, 64, 128]\n",
    "    num_iterations = 100\n",
    "    num_runs = 10\n",
    "    average_times_per_run = []\n",
    "\n",
    "    for run in range(num_runs):\n",
    "        execution_times = Manager().list()\n",
    "        for n in N:\n",
    "            generate_lattices(n, num_iterations, execution_times)\n",
    "        average_times_per_run.append(list(execution_times))\n",
    "avg_times_multiprocessing = [item for sublist in average_times_per_run for item in sublist]\n",
    "print(np.mean(avg_times_multiprocessing))\n",
    "\n"
   ]
  },
  {
   "cell_type": "code",
   "execution_count": null,
   "metadata": {
    "collapsed": false,
    "jupyter": {
     "source_hidden": false
    },
    "scrolled": true
   },
   "outputs": [],
   "source": [
    "# Cell 5: Numba + Parallel processing\n",
    "\n",
    "avg_times_parallel = []\n",
    "N_values = [5, 25, 64, 128]\n",
    "num_runs = 10\n",
    "num_iterations = 100\n",
    "\n",
    "for n in N_values:\n",
    "    times_per_n = []\n",
    "    for _ in prange(num_runs):\n",
    "        execution_time = generate_lattices_parallel(n, num_iterations)\n",
    "        times_per_n.append(np.mean(execution_time))\n",
    "    avg_times_parallel.extend(times_per_n)\n",
    "\n",
    "print(np.mean(avg_times_parallel))\n"
   ]
  },
  {
   "cell_type": "markdown",
   "metadata": {
    "collapsed": false,
    "jupyter": {
     "source_hidden": false
    }
   },
   "source": [
    "### Combining results\n",
    "\n",
    "This cell takes all the avg\\_times\\_process from the previous cells, calculates the error across the 10 runs for each 400,000 lattices and calculates a total average time to produce each lattice. \n",
    "[Link to Index](#index)<a id='section3.7'></a>"
   ]
  },
  {
   "cell_type": "code",
   "execution_count": null,
   "metadata": {
    "collapsed": false,
    "jupyter": {
     "source_hidden": false
    },
    "scrolled": true
   },
   "outputs": [],
   "source": [
    "\n",
    "avg_one_by_one = np.mean(avg_times_one_by_one)\n",
    "std_dev_one_by_one = np.std(avg_times_one_by_one)\n",
    "\n",
    "avg_batch = np.mean(avg_times_batch)\n",
    "std_dev_batch = np.std(avg_times_batch)\n",
    "\n",
    "avg_multithreading = np.mean(avg_times_multithreading)\n",
    "std_dev_multithreading = np.std(avg_times_multithreading)\n",
    "\n",
    "avg_multiprocessing = np.mean(avg_times_multiprocessing)\n",
    "std_dev_multiprocessing = np.std(avg_times_multiprocessing)\n",
    "\n",
    "avg_parallel = np.mean(avg_times_parallel)\n",
    "std_dev_parallel = np.std(avg_times_parallel)\n",
    "\n",
    "methods = ['One by One', 'Batch', 'Multithreading', 'Multiprocessing', 'Parallel']\n",
    "avg_times = [avg_one_by_one, avg_batch, avg_multithreading, avg_multiprocessing, avg_parallel]\n",
    "std_devs = [std_dev_one_by_one, std_dev_batch, std_dev_multithreading, std_dev_multiprocessing, std_dev_parallel]\n",
    "\n",
    "num_colors = 100\n",
    "colors = plt.cm.hot(np.linspace(0, 1, num_colors))\n",
    "rainbow_cmap = LinearSegmentedColormap.from_list('hot', colors)\n",
    "\n",
    "fig, ax = plt.subplots(figsize=(10, 6))\n",
    "\n",
    "ax.imshow([[i] * len(methods) for i in range(num_colors)], cmap=rainbow_cmap, aspect='auto', extent=(-0.5, len(methods) - 0.5, -0.5, 99.5), vmin=0, vmax=99)\n",
    "\n",
    "for i, method in enumerate(methods):\n",
    "    ax.errorbar(i, avg_times[i], yerr=std_devs[i], fmt='o', color='black', alpha=0.8, capsize=5)\n",
    "\n",
    "ax.set_xticks(range(len(methods)))\n",
    "ax.set_xticklabels(methods, fontsize=12, color='black')\n",
    "ax.set_ylabel('Average Time (microseconds)', fontsize=14, color='black')\n",
    "ax.set_title('Comparison of Execution Times for Different Methods, 4million lattices, combined lattice sizes [5, 25, 64, 128]', fontsize=16, color='black')\n",
    "\n",
    "legend_patches = [mpatches.Patch(label=f'{method}: ({avg_time:.1f} ± {error:.1f}) μs') for method, avg_time, error in zip(methods, avg_times, std_devs)]\n",
    "plt.legend(handles=legend_patches, loc='center left', bbox_to_anchor=(1, 0.5), fontsize = 20)\n",
    "plt.show()\n"
   ]
  },
  {
   "cell_type": "markdown",
   "metadata": {
    "collapsed": false,
    "jupyter": {
     "source_hidden": false
    }
   },
   "source": [
    "This comparison test shows the incredible oprimisation offered by using a combination of Numba and Parallel processing.  The times are in microseconds not nanoseconds.\n",
    "\n",
    "![](https://raw.githubusercontent.com/Voodooshrimp/Ising-model-2D/Ising2D/Images/Benchmarkingtestparallel.png)\n"
   ]
  },
  {
   "cell_type": "markdown",
   "metadata": {
    "collapsed": false,
    "jupyter": {
     "source_hidden": false
    }
   },
   "source": [
    "### After all this benchmarking, it turns out numba and parallel processing blows them all out of the water!\n",
    "Each function in this notebook henceforth has been modified to run with Numba and parallel processing where possible. Not all functions were able to be converted due to the restrictions on parallel processing, some are just incompatible. \n",
    "Care was taken to minimise imbedded parallelisations.\n"
   ]
  },
  {
   "cell_type": "markdown",
   "metadata": {
    "collapsed": false,
    "jupyter": {
     "source_hidden": false
    }
   },
   "source": [
    "# Nearest Neighbour Algorithm.\n",
    "\n",
    "This algorithm implements a nearest neighbor approach to compute the combined spin states for each lattice point in a square lattice. It evaluates the spin states of the neighboring lattice points around the index under inspection and sums them up, considering periodic boundary conditions.\n",
    "\n",
    "The resulting sums are collected into a list representing the entire lattice. This script is designed to test lattices of size N * M, where N can be adjusted to alter the lattice size.\n",
    "\n",
    "The scatter plot visualises these computed combined spin states for each lattice point, aiding in understanding the behavior of the system. In this specific case, the lattice size is set to N = 50, with M equal to N, and the plot provides insight into the distribution of combined spin states across the lattice.\n",
    "\n",
    "[Link to Index](#index)<a id='section4'></a>"
   ]
  },
  {
   "cell_type": "code",
   "execution_count": null,
   "metadata": {
    "collapsed": false,
    "jupyter": {
     "source_hidden": false
    }
   },
   "outputs": [],
   "source": [
    "\n",
    "N = 50\n",
    "M = N\n",
    "lattice = randomlattice(N, M)\n",
    "combined_spin_list = combined_spin_func(lattice)\n",
    "\n",
    "plt.scatter(range(len(combined_spin_list)),\n",
    "            combined_spin_list,\n",
    "            color='dodgerblue',\n",
    "            marker=\".\",\n",
    "            s=10)\n",
    "plt.title(f'Nearest neighbour combined spin states for {N}x{M} lattice')\n",
    "plt.xlabel('iteration')\n",
    "plt.ylabel('combined spin states')\n",
    "plt.grid(True)\n",
    "plt.show()\n"
   ]
  },
  {
   "cell_type": "markdown",
   "metadata": {
    "collapsed": false,
    "jupyter": {
     "source_hidden": false
    }
   },
   "source": [
    "![](https://raw.githubusercontent.com/Voodooshrimp/Ising-model-2D/Ising2D/Images/Nearestneighbourproof.png)"
   ]
  },
  {
   "cell_type": "markdown",
   "metadata": {
    "collapsed": false,
    "jupyter": {
     "source_hidden": false
    }
   },
   "source": [
    "# Implement the Metropolis Algorithm.\n",
    "This script implements the Metropolis algorithm to simulate the behavior of a physical system, specifically an Ising model, on a square lattice.\n",
    "\n",
    "Initially, a square lattice of size 50x50 is generated using the randomlattice function. The lattice is then subjected to the Metropolis algorithm for a specified number of Monte Carlo steps (N_mc) at a given temperature (T_prime).\n",
    "\n",
    "During each Monte Carlo step, a random lattice point is selected, and the change in energy (dE) is calculated using the imbedded calculate_dE function, considering the combined spin state of the nearest neighbors.\n",
    "\n",
    "Based on the Metropolis acceptance criterion, the lattice point's spin is either flipped or kept unchanged probabilistically. The process is repeated for multiple iterations, and the resulting lattice configurations are visualised using the plotlattice_modified function.\n",
    "\n",
    "The script also tracks whether all computed dE values fall within the range [-4, 4], indicating the validity of the Metropolis algorithm. Finally, the script outputs a message confirming the outcome of the dE check.\n",
    "\n",
    "This cell has been improved to it's final version, any N_mc value can be input, and the frames will dynamically accomodate any number of evolutions of the metropolis algorithm, it works as a frame by frame animation without being animated. \n",
    "[Link to Index](#index)<a id='section5'></a>"
   ]
  },
  {
   "cell_type": "code",
   "execution_count": null,
   "metadata": {
    "collapsed": false,
    "jupyter": {
     "source_hidden": false
    }
   },
   "outputs": [],
   "source": [
    "LatSize = 50\n",
    "N_mc = 50\n",
    "\n",
    "Lat_Size = [(LatSize, LatSize)]\n",
    "N, M, lattice = LatSize, LatSize, randomlattice(LatSize, LatSize)\n",
    "dE_tracker = np.empty(N * M, dtype=np.bool_)\n",
    "T_prime = 1\n",
    "num_frames = N_mc + 1\n",
    "num_frames_per_row = 5\n",
    "num_rows = (num_frames - 1) // num_frames_per_row + 1\n",
    "fig, axs = plt.subplots(num_rows, num_frames_per_row, figsize=(4 * num_frames_per_row, 4 * num_rows))\n",
    "axs = axs.flatten()\n",
    "\n",
    "plotlattice_modified(lattice, axs[0])\n",
    "axs[0].set_title('Initial lattice')\n",
    "\n",
    "for idx, (N, M) in enumerate(Lat_Size):\n",
    "    for i in range(1, num_frames):\n",
    "        lattice = metropolis_tracker(lattice, T_prime, dE_tracker)\n",
    "        row_idx = (i - 1) // num_frames_per_row\n",
    "        col_idx = (i - 1) % num_frames_per_row\n",
    "        ax = axs[row_idx * num_frames_per_row + col_idx]\n",
    "        plotlattice_modified(lattice, ax)\n",
    "        ax.set_title(f'Lattice size: {N}x{M}, Iteration: {i}')\n",
    "if num_frames % num_frames_per_row != 0:\n",
    "    for i in range(num_frames, num_rows * num_frames_per_row):\n",
    "        axs[i].axis('off')\n",
    "plt.tight_layout()\n",
    "plt.show()\n",
    "\n",
    "if np.all(dE_tracker):\n",
    "    print(\"All delta_E values are between -4 and 4, with\", len(dE_tracker),\n",
    "          \"delta_E values checked.\")\n",
    "else:\n",
    "    print(\"Not all delta_E values are between -4 and 4, with\", len(dE_tracker),\n",
    "          \"delta_E values checked.\")\n",
    "\n"
   ]
  },
  {
   "cell_type": "markdown",
   "metadata": {
    "collapsed": false,
    "jupyter": {
     "source_hidden": false
    }
   },
   "source": [
    "![](https://raw.githubusercontent.com/Voodooshrimp/Ising-model-2D/Ising2D/Images/1000lattices.png)"
   ]
  },
  {
   "cell_type": "markdown",
   "metadata": {
    "collapsed": false,
    "jupyter": {
     "source_hidden": false
    }
   },
   "source": [
    "#### This is just a test module, where I needed to evolve a lattice by N\\_mc and plot the end state.  The purpose of this was to quickly scan through to find where a system of a certain lattice size tends to equilibrium.\n",
    "\n",
    "This is where the final edition of the metropolis algorithm was born"
   ]
  },
  {
   "cell_type": "code",
   "execution_count": null,
   "metadata": {
    "collapsed": true,
    "jupyter": {
     "source_hidden": false
    },
    "scrolled": true
   },
   "outputs": [],
   "source": [
    "\n",
    "# For single image after N_mc steps\n",
    "LatSize = int(input(\"Specify the lattice size: \"))\n",
    "Lat_Size = [(LatSize, LatSize)]\n",
    "N, M, lattice = LatSize, LatSize, randomlattice(LatSize, LatSize)\n",
    "T_prime = float(input(\"Specify the temperature of the system ≠0: \"))\n",
    "N_mc = int(input(\"Specify the number of metropolis steps to take: \"))\n",
    "for i in tqdm(range(N_mc)):\n",
    "    lattice = metropolis(lattice,T_prime)\n",
    "plotlattice(lattice)"
   ]
  },
  {
   "cell_type": "markdown",
   "metadata": {
    "collapsed": false
   },
   "source": [
    "![](https://raw.githubusercontent.com/Voodooshrimp/Ising-model-2D/Ising2D/Images/80001.51000.png) Lattice 8000x8000, T = 1.5, evolved for 1000 time steps  \n",
    "\n"
   ]
  },
  {
   "cell_type": "markdown",
   "metadata": {
    "collapsed": false,
    "jupyter": {
     "source_hidden": false
    }
   },
   "source": [
    "# Animations of the lattice evolution through the metropolis algorithm\n",
    "[Link to Index](#index)<a id='section5.1'></a>\n"
   ]
  },
  {
   "cell_type": "code",
   "execution_count": null,
   "metadata": {
    "collapsed": false,
    "jupyter": {
     "source_hidden": false
    }
   },
   "outputs": [],
   "source": [
    "\n",
    "LatSize = 150\n",
    "T_prime = 0.05\n",
    "N_mc = 5000\n",
    "N, M = LatSize, LatSize\n",
    "lattice = randomlattice(LatSize, LatSize)\n",
    "fig, ax = plt.subplots()\n",
    "title = ax.set_title('Lattice Evolution - Iteration: 0')\n",
    "im = ax.imshow(lattice, cmap='binary', interpolation='nearest')\n",
    "\n",
    "ani = FuncAnimation(fig, update, frames=N_mc, blit=True, interval = 1)\n",
    "writer = PillowWriter(fps=1000)\n",
    "ani.save('lattice_evolutiontest.gif', writer = writer)\n",
    "plt.show()\n"
   ]
  },
  {
   "cell_type": "markdown",
   "metadata": {
    "collapsed": false,
    "jupyter": {
     "source_hidden": false
    }
   },
   "source": [
    "![](https://raw.githubusercontent.com/Voodooshrimp/Ising-model-2D/Ising2D/Images/latticeevolution1000.gif)"
   ]
  },
  {
   "cell_type": "markdown",
   "metadata": {
    "collapsed": false
   },
   "source": [
    "### Animated Metropolis Function, With Animated Magnetisation against Temperature\n",
    "\n",
    "This cell animates the metropolis algorithm, it runs for N\\_mc steps, with 1,000 minimum steps to allow for equilibrium for smaller lattice sizes, then passes the final lattice into the animation function for plotting.\n",
    "\n",
    "The mean magnetisation of the final lattice is also calculated and plotted as a scatter plot.   \n",
    "\n",
    "This step is ahead of where it should be in logical order, however I wanted to keep all the animation cells together.  \n",
    "\n"
   ]
  },
  {
   "cell_type": "code",
   "execution_count": null,
   "metadata": {
    "collapsed": false
   },
   "outputs": [],
   "source": [
    "N = 50\n",
    "M = N\n",
    "N_mc = 2000\n",
    "lattice=randomlattice(N,M)\n",
    "Temp_range = np.arange(0.01, 5, 0.01)\n",
    "final_magnetisation_values = []\n",
    "final_temps_values = []\n",
    "\n",
    "@jit\n",
    "def simulate_metropolis_lattice(N_mc, lattice, T_prime):\n",
    "    stable_count = 0\n",
    "    magnetisation = []\n",
    "    for i in prange(N_mc):\n",
    "        lattice = metropolis(lattice, T_prime)\n",
    "        magnetisation.append(np.mean(lattice))\n",
    "        if i > 0 and magnetisation[i] == magnetisation[i-1]:\n",
    "            stable_count += 1\n",
    "        else:\n",
    "            stable_count = 0\n",
    "        if stable_count >= 500:\n",
    "            if i >= 500:\n",
    "                break\n",
    "    final_lattice = lattice\n",
    "    return final_lattice, magnetisation[-1]\n",
    "\n",
    "def update_temp(frame):\n",
    "    global Temp_range, final_magnetisation_values\n",
    "    T_prime = Temp_range[frame]\n",
    "    lattice=randomlattice(N,M)\n",
    "    lattice, final_magnetisation = simulate_metropolis_lattice(N_mc, lattice, T_prime)\n",
    "    final_magnetisation_values.append(final_magnetisation)\n",
    "    final_temps_values.append(T_prime)\n",
    "    fraction_ones = np.count_nonzero(lattice == 1) / (N * M)\n",
    "    title.set_text(f'Lattice Evolution - temperature: {T_prime:.2f}, Magnitude = {fraction_ones:.2f}')\n",
    "    im.set_array(lattice)\n",
    "    scatter.set_offsets(np.column_stack((final_temps_values,final_magnetisation_values)))\n",
    "    return [im, title, scatter]\n",
    "\n",
    "fig,ax = plt.subplots(1,2,figsize=(12,5))\n",
    "title = ax[0].set_title('Lattice Evolution - temperature: 0.1')\n",
    "im = ax[0].imshow(lattice, cmap='tab10', interpolation = 'nearest')\n",
    "ax[0].axis('off')\n",
    "\n",
    "scatter = ax[1].scatter([],[],marker ='.', color= 'dodgerblue', alpha=0.5)\n",
    "ax[1].set_xlim(0,Temp_range[-1])\n",
    "ax[1].set_ylim(0,1)\n",
    "ax[1].set_title('Magnetisation Evolution')\n",
    "ax[1].set_xlabel('Temperature')\n",
    "ax[1].set_ylabel('Mean Magnetisation')\n",
    "\n",
    "ani = FuncAnimation(fig, update_temp, frames=len(Temp_range), blit=True,interval=1)\n",
    "writer = PillowWriter(fps=30)\n",
    "\n",
    "ani.save('lattice_evolution_combined.gif', writer = writer)\n",
    "plt.show()"
   ]
  },
  {
   "cell_type": "markdown",
   "metadata": {
    "collapsed": false
   },
   "source": [
    "# <span style='color:#f44336'><u>**The output for this has rapid flashing images, if you are sensitive to flashing images, scroll past this next gif**</u></span>\n",
    "\n",
    "If you are not sensitive and are still interested in watching the animation, I have changed the colourmap to be shades of blue instead of black and white to make it a little easier on the eyes. \n",
    "\n",
    "However, still be careful.\n",
    "[Link to GIF file](https://raw.githubusercontent.com/Voodooshrimp/Ising-model-2D/Ising2D/Images/lattice_evolution_blue.gif)\n"
   ]
  },
  {
   "cell_type": "markdown",
   "metadata": {
    "collapsed": false,
    "jupyter": {
     "source_hidden": false
    }
   },
   "source": [
    "# Ising Model Simulation with Metropolis Algorithm\n",
    "\n",
    "[Link to Index](#index)<a id='section5.2'></a>\n",
    "This script simulates an Ising model on a square lattice using the Metropolis algorithm. It tracks and visualises thermodynamic quantities such as average magnetisation, susceptibility, heat capacity, and lattice energy per spin over a specified number of Monte Carlo steps (N_mc) at a given temperature (T_prime).\n",
    "\n",
    "- The magnetization per spin $M$ is the average magnetic moment per spin.\n",
    "- The energy per spin $E$ is given by the average energy of interactions between neighbouring spins over all lattice sites.\n",
    "- The susceptibility $\\chi$ measures the response of the magnetization to an external magnetic field. In the absence of an external field, it can be calculated as the variance of the magnetization per spin.\n",
    "- The heat capacity per spin $C$ measures the response of the energy to temperature fluctuations.\n",
    "\n",
    "   $$M = \\frac{1}{N} \\sum_{i} s_i$$\n",
    "   $$E = -\\frac{1}{N} \\sum_{\\langle i,j \\rangle} s_i s_j$$\n",
    "   $$\\chi = \\frac{1}{T'N} \\left( \\langle M^2 \\rangle - \\langle M \\rangle^2 \\right)$$\n",
    "   $$C = \\frac{1}{(T')^2N} \\left( \\langle E^2 \\rangle - \\langle E \\rangle^2 \\right)$$\n",
    "\n",
    "In these expressions:\n",
    "\n",
    "- $T'$ is the reduced temperature.\n",
    "- $N$ is the total number of lattice sites.\n",
    "- $\\langle M \\rangle$ is the average magnetization per spin.\n",
    "- $\\langle M^2 \\rangle$ is the average of the square of the magnetization per spin.\n",
    "- $\\langle E \\rangle$ is the average energy per spin.\n",
    "- $\\langle E^2 \\rangle$ is the average of the square of the energy per spin.\n",
    "\n",
    "Once the system has been given time enough to equilibriate, a further 500 steps are taken, then 5 values from this extended region are averaged and used in the calculations aformentioned. \n",
    "\n",
    "The results are plotted and printed, providing insights into the system's behaviour and properties.\n",
    "\n",
    "[Link to Index](#index)<a id='section7'></a>\n",
    "\n"
   ]
  },
  {
   "cell_type": "code",
   "execution_count": null,
   "metadata": {
    "collapsed": false,
    "jupyter": {
     "source_hidden": false
    }
   },
   "outputs": [],
   "source": [
    "\n",
    "N = 25\n",
    "M = N\n",
    "N_mc = 750\n",
    "Temp_range = np.arange(0.1, 5, 0.1)\n",
    "lattice = randomlattice(N, M)\n",
    "\n",
    "final_magnetisation = 0\n",
    "final_energy = 0\n",
    "\n",
    "def simulate_metropolis(N_mc, lattice, T_prime):\n",
    "    magnetisation = []\n",
    "    lattice_energy = []\n",
    "    stable_count = 0\n",
    "    for i in prange(N_mc):\n",
    "        lattice = metropolis(lattice, T_prime)\n",
    "        magnetisation.append(np.mean(lattice))\n",
    "        energies = calculate_energy(lattice,N,M)\n",
    "        lattice_energy.append(np.mean(energies))\n",
    "        if i > 0 and magnetisation[i] == magnetisation[i-1]:\n",
    "            stable_count += 1\n",
    "        else:\n",
    "            stable_count = 0\n",
    "        if stable_count >= 500:\n",
    "            if i >= 500:\n",
    "                break\n",
    "\n",
    "    last_500_magnetisation = np.array(magnetisation[-500:])\n",
    "    last_500_energy = np.array(lattice_energy[-500:])\n",
    "\n",
    "    sample_indices = np.linspace(0, len(last_500_magnetisation) - 1, 10, dtype=int)\n",
    "    sampled_magnetisation = [last_500_magnetisation[idx] for idx in sample_indices]\n",
    "    sampled_energy = [last_500_energy[idx] for idx in sample_indices]\n",
    "    mean_mag, mean_energy = np.mean(sampled_magnetisation), np.mean(sampled_energy)\n",
    "    return mean_mag, mean_energy, sampled_magnetisation, sampled_energy\n",
    "\n",
    "def calculate_susceptibility_and_heat_capacity(magnetisation, lattice_energy, T_prime):\n",
    "    magnetisation_sq = np.square(magnetisation)\n",
    "    lattice_energy_sq = np.square(lattice_energy)\n",
    "    susceptibility = (np.mean(magnetisation_sq) - np.mean(magnetisation) ** 2) / T_prime\n",
    "    heat_capacity = (np.mean(lattice_energy_sq) - np.mean(lattice_energy) ** 2) / (T_prime ** 2)\n",
    "    return susceptibility, heat_capacity\n",
    "\n",
    "\n",
    "magnetisation_history = []\n",
    "lattice_energy_history = []\n",
    "susceptibility_history = []\n",
    "heat_capacity_history = []\n",
    "\n",
    "for T_prime in tqdm(Temp_range):\n",
    "    magnetisation, lattice_energy, sampled_magnetisation, sampled_energy = simulate_metropolis(N_mc, lattice, T_prime)\n",
    "    magnetisation_history.append(np.mean(abs(magnetisation)))\n",
    "    lattice_energy_history.append(np.mean(abs(lattice_energy)))\n",
    "    susceptibility, heat_capacity = calculate_susceptibility_and_heat_capacity(sampled_magnetisation, sampled_energy, T_prime)\n",
    "    susceptibility_history.append(susceptibility)\n",
    "    heat_capacity_history.append(heat_capacity)\n",
    "\n",
    "def errors(magnetisation_data, energy_data, susceptibility_data, heatcapacity_data):\n",
    "    \n",
    "    std_magnetisation = np.std(magnetisation_data)\n",
    "    staterr_magnetisation = std_magnetisation / np.sqrt(len(magnetisation_data))\n",
    "\n",
    "    std_susceptibility = np.std(susceptibility_data)\n",
    "    staterr_susceptibility = std_susceptibility / np.sqrt(len(susceptibility_data))\n",
    "\n",
    "    std_heat_capacity = np.std(heatcapacity_data)\n",
    "    staterr_heat_capacity = std_heat_capacity / np.sqrt(len(heatcapacity_data))\n",
    "\n",
    "    std_lattice_energy = np.std(energy_data)\n",
    "    staterr_lattice_energy = std_lattice_energy / np.sqrt(len(energy_data))\n",
    "    return staterr_magnetisation, staterr_susceptibility, staterr_heat_capacity, staterr_lattice_energy\n",
    "\n",
    "staterr_magnetisation, staterr_susceptibility, staterr_heat_capacity, staterr_lattice_energy = errors(magnetisation_history, lattice_energy_history, susceptibility_history, heat_capacity_history)\n",
    "print('All done ☺')\n"
   ]
  },
  {
   "cell_type": "markdown",
   "metadata": {
    "collapsed": false,
    "jupyter": {
     "source_hidden": false
    }
   },
   "source": [
    "##### When you get an \"All done\", move onto the next cell\n",
    "This is producing the data described previously.\\\n",
    "By allowing the system to evolve, we get a nice (hopefully) stable picture of the state of the system at that temperature."
   ]
  },
  {
   "cell_type": "code",
   "execution_count": null,
   "metadata": {
    "collapsed": false,
    "jupyter": {
     "source_hidden": false
    }
   },
   "outputs": [],
   "source": [
    "staterr_magnetisation, staterr_susceptibility, staterr_heat_capacity, staterr_lattice_energy = errors(magnetisation_history, lattice_energy_history, susceptibility_history, heat_capacity_history)\n",
    "fig, axes = plt.subplots(1, 4, figsize=(20, 5))\n",
    "# Plot Magnetisation\n",
    "axes[0].scatter(Temp_range, magnetisation_history, color='dodgerblue', marker='.', s=2, label='Mean Magnetisation')\n",
    "axes[0].fill_between(Temp_range, magnetisation_history - staterr_magnetisation,magnetisation_history + staterr_magnetisation, color='lightblue', alpha=0.5, label = f'Error ± {np.round(staterr_magnetisation,3)}')\n",
    "axes[0].set_xlabel('Temperature (T\\')')\n",
    "axes[0].set_ylabel('Average magnetisation')\n",
    "axes[0].set_title('Magnetisation vs Temperature')\n",
    "axes[0].legend(loc=('upper right'))\n",
    "\n",
    "# Plot Susceptibility\n",
    "axes[1].scatter(Temp_range, susceptibility_history, color='dodgerblue', marker='.', s=2,\n",
    "                label='Mean Susceptibility')\n",
    "axes[1].fill_between(Temp_range, susceptibility_history - staterr_susceptibility,susceptibility_history + staterr_susceptibility, color='lightblue', alpha=0.5, label = f'Error ± {np.round(staterr_susceptibility,7)}')\n",
    "axes[1].set_xlabel('Temperature (T\\')')\n",
    "axes[1].set_ylabel('Susceptibility')\n",
    "axes[1].set_title('Susceptibility vs Temperature')\n",
    "axes[1].legend(loc=('upper right'))\n",
    "\n",
    "# Plot Heat Capacity\n",
    "axes[2].scatter(Temp_range, heat_capacity_history, color='dodgerblue', marker='.', s=2, label='Mean Heat Capacity')\n",
    "axes[2].fill_between(Temp_range, heat_capacity_history - staterr_heat_capacity,heat_capacity_history + staterr_heat_capacity, color='lightblue', alpha=0.5, label = f'Error ± {np.round(staterr_heat_capacity,2)}')\n",
    "axes[2].set_xlabel('Temperature (T\\')')\n",
    "axes[2].set_ylabel('Specific Heat capacity')\n",
    "axes[2].set_title('Specific Heat capacity vs Temperature')\n",
    "axes[2].legend(loc=('upper right'))\n",
    "\n",
    "# Plot Lattice Energy\n",
    "axes[3].scatter(Temp_range, lattice_energy_history, color='dodgerblue', marker='.', s=2,\n",
    "                label='Mean Lattice Energy')\n",
    "axes[3].fill_between(Temp_range, lattice_energy_history - staterr_lattice_energy,lattice_energy_history + staterr_lattice_energy, color='lightblue', alpha=0.5, label = f'Error ± {np.round(staterr_lattice_energy,2)}')\n",
    "axes[3].set_xlabel('Temperature (T\\')')\n",
    "axes[3].set_ylabel('Average Lattice energy')\n",
    "axes[3].set_title('Average Lattice energy vs Temperature')\n",
    "axes[3].legend(loc=('upper right'))\n",
    "\n",
    "plt.suptitle(f\"Simulation of 2D Ising Model by Metropolis Algorithm\\n\"\n",
    "             f\"Lattice Dimension: {N}x{M}, Metropolis Steps={N_mc}\",\n",
    "             fontsize=20)\n",
    "plt.tight_layout()\n",
    "plt.show()"
   ]
  },
  {
   "cell_type": "markdown",
   "metadata": {
    "collapsed": false,
    "jupyter": {
     "source_hidden": false
    }
   },
   "source": [
    "## Some simulations whilst varying the lattice size, how many steps and resolution in temperature values.\n",
    "\n",
    "#### - This figure has a temperature resolution of 1000 values between 0.1 and 5.\n",
    "\n",
    "![](https://raw.githubusercontent.com/Voodooshrimp/Ising-model-2D/Ising2D/Images/Physicslprops25x25500.png)\n",
    "\n",
    "#### - This figure has a temperature resolution of 500 temperature values between 0.1 and 5.\n",
    "\n",
    "![](https://raw.githubusercontent.com/Voodooshrimp/Ising-model-2D/Ising2D/Images/physicalprops100x100.png)\n",
    "\n",
    "#### - This figure has a temperature resolution of 1000 values between 0.1 and 5\n",
    "\n",
    "![](https://raw.githubusercontent.com/Voodooshrimp/Ising-model-2D/Ising2D/Images/Physicalprops150x1502000steps1000temps.png)"
   ]
  },
  {
   "cell_type": "markdown",
   "metadata": {
    "collapsed": false,
    "jupyter": {
     "source_hidden": false
    }
   },
   "source": [
    "# Critical Temperature Estimation for Ising Model\n",
    "\n",
    "This part of the script calculates the derivative of the mean magnetisation with respect to temperature (derivative_magnetisation) using NumPy's gradient function. It then identifies the index corresponding to the maximum absolute derivative value, representing the estimated critical temperature (estimated_critical_temperature).\n",
    "\n",
    "The estimated critical temperature is printed, and a scatter plot of the magnetisation distribution is displayed. The critical temperature is marked with a green dashed line on the plot for reference.\n",
    "\n",
    "The critical temperature or the Curie point/temperature, is the temperature at which the spins of the material devolve into disorder. Below this temperature, the spins tend to be aligned, leading to natural magnetic properties, above this point, the spins tend to be randomly orientated, leading to a loss in this magnetic property. \n",
    "\n",
    "In this script, this point from order to disorder is calculated by finding the maximum derivative of the system, characteristically it is a sharp drop off from neatly oriented spins, to randomly oriented spins.   \n",
    "\n",
    "\n",
    "[Link to Index](#index)<a id='section8'></a>\n",
    "\n"
   ]
  },
  {
   "cell_type": "code",
   "execution_count": null,
   "metadata": {
    "collapsed": false,
    "jupyter": {
     "source_hidden": false
    }
   },
   "outputs": [],
   "source": [
    "\n",
    "@njit(parallel=True)\n",
    "def compute_gradient(magnetisation_means, Temp_range_):\n",
    "    derivative_magnetisation = np.zeros_like(Temp_range_)\n",
    "    for i in prange(1, len(Temp_range_) - 1):\n",
    "        derivative_magnetisation[i] = (magnetisation_means[i + 1] - magnetisation_means[i - 1]) / (Temp_range_[i + 1] - Temp_range_[i - 1])\n",
    "    return derivative_magnetisation\n",
    "\n",
    "@njit(parallel=True)\n",
    "def estimate_critical_temperature(magnetisation_history, Temp_range):\n",
    "    derivative_magnetisation = compute_gradient(magnetisation_history, Temp_range)\n",
    "    max_derivative_index = np.argmax(np.abs(derivative_magnetisation))\n",
    "    estimated_critical_temperature = Temp_range[max_derivative_index]\n",
    "    return estimated_critical_temperature\n",
    "fine_tuning = int(input(f'Derivative fine tuning, enter a value <{int(len(Temp_range))/2}, 15 is usually a good place to start'))\n",
    "window_size = int(len(Temp_range)/fine_tuning)\n",
    "poly_order = 1\n",
    "def smoothing(y_smooth):\n",
    "    y_smooth = savgol_filter(y_smooth, window_size, poly_order)\n",
    "    return y_smooth\n",
    "y_smooth = magnetisation_history\n",
    "for i in range(2):\n",
    "    y_smooth = smoothing(y_smooth)\n",
    "Temp_range1 = np.linspace(0.1, 5, len(y_smooth))\n",
    "\n",
    "derivative_magnetisation = compute_gradient(y_smooth[int(len(y_smooth)/5):], Temp_range1[int(len(y_smooth)/5):])\n",
    "max_derivative_index = np.argmax(np.abs(derivative_magnetisation))\n",
    "estimated_critical_temperature = Temp_range1[int(len(y_smooth)/5) + max_derivative_index]\n",
    "\n",
    "plt.figure(figsize=(10,6))\n",
    "plt.scatter(Temp_range,\n",
    "            magnetisation_history,\n",
    "            label='Average magnetisation per Spin',\n",
    "            color='dodgerblue',alpha=1,s=10,marker='.', zorder=1)\n",
    "plt.plot(Temp_range,y_smooth,alpha = 1,linewidth=0.5, color = 'red',label=f'Savgol filter smoothing, window size {window_size}',zorder=2)\n",
    "plt.fill_between(Temp_range,\n",
    "                 magnetisation_history - staterr_magnetisation,\n",
    "                 magnetisation_history + staterr_magnetisation,\n",
    "                 color='lightblue',\n",
    "                 alpha=0.5)\n",
    "plt.title(f\"Simulation of 2D Ising Model by Metropolis Algorithm\\n\"\n",
    "             f\"Lattice Dimension: {N}x{M}, Metropolis Steps={N_mc}\",\n",
    "             fontsize=20)\n",
    "plt.ylabel('Mean magnetisation [μ]')\n",
    "plt.xlabel('Temperature')\n",
    "plt.axvline(x=estimated_critical_temperature,\n",
    "            color='green',\n",
    "            linestyle='--',\n",
    "            label=f'Critical Temperature = {np.round(estimated_critical_temperature,3)}')\n",
    "\n",
    "plt.legend(loc='upper right')\n",
    "plt.show()\n"
   ]
  },
  {
   "cell_type": "markdown",
   "metadata": {
    "collapsed": false,
    "jupyter": {
     "source_hidden": false
    }
   },
   "source": [
    "![](https://raw.githubusercontent.com/Voodooshrimp/Ising-model-2D/Ising2D/Images/Criticaltemp50x502500.png) \n",
    "\n"
   ]
  },
  {
   "cell_type": "markdown",
   "metadata": {
    "collapsed": false,
    "jupyter": {
     "source_hidden": false
    }
   },
   "source": [
    "# Investigating magnetisation Distribution and Critical Temperature Across Lattice Sizes\n",
    "\n",
    "This script iterates over different lattice sizes, specified by N\\_values, through a range of temperatures, specified by Temp\\_range, over N\\_mc steps, with standard error calculated from repeats. The repeats are done by lattice size, so if repeats is set to 10, each lattice size will iterate through each temperature in Temp\\_range N\\_mc times, then repeat that 10 times. \n",
    "\n",
    "If the N\\_values = range\\(25,35,1\\),  N\\_mc = 1000, Temp\\_range = np.arange\\(0.1,5,0.1\\) and repeats = 10.\n",
    "\n",
    "Then there will be 4,900 unique lattices generated, each undergoing 1,000 cycles through the metropolis algorithm. Higher values can be used, but it will increase runtime dramatically. \n",
    "\n",
    "The critical temperatures for each temperature is calculated the same as the previous cell.\n",
    "\n",
    "The critical temperature for each lattice size is averaged across 10 repeats and plotted.  \n",
    "\n",
    "\n",
    "[Link to Index](#index)<a id='section8.1'></a>\n",
    "\n"
   ]
  },
  {
   "cell_type": "code",
   "execution_count": null,
   "metadata": {
    "collapsed": false,
    "jupyter": {
     "source_hidden": false
    }
   },
   "outputs": [],
   "source": [
    "\n",
    "N_values = range(1,35,1)\n",
    "N_mc = 2000\n",
    "Temp_range = np.arange(0.1, 5, 0.01)\n",
    "repeats = 5\n",
    "\n",
    "def simulate_metropolis(N_mc, lattice, T_prime):\n",
    "    magnetisation = []\n",
    "    stable_count = 0\n",
    "    for i in prange(N_mc):\n",
    "        lattice = metropolis(lattice, T_prime)\n",
    "        magnetisation.append(np.mean(lattice))\n",
    "        if i > 0 and magnetisation[i] == magnetisation[i-1]:\n",
    "            stable_count += 1\n",
    "        else:\n",
    "            stable_count = 0\n",
    "        if stable_count >= 500:\n",
    "            if i >= 500:\n",
    "                break\n",
    "    last_500_magnetisation = np.array(magnetisation[-500:])\n",
    "    sample_indices = np.linspace(0, len(last_500_magnetisation) - 1, 10, dtype=int)\n",
    "    sampled_magnetisation = [last_500_magnetisation[idx] for idx in sample_indices]\n",
    "    mean_mag = np.mean(sampled_magnetisation)\n",
    "    return mean_mag\n",
    "\n",
    "\n",
    "def calculate_critical_temperature(magnetisation_vals, Temp_range_vals):\n",
    "    y_smooth = magnetisation_vals\n",
    "    for _ in range(2):\n",
    "        y_smooth = savgol_filter(y_smooth, int(len(Temp_range_vals)/5), 1)\n",
    "    Temp_range_smooth = np.linspace(0.1, 5, len(y_smooth))\n",
    "    derivative_magnetisation = compute_gradient(y_smooth[int(len(y_smooth)/5):], Temp_range_smooth[int(len(y_smooth)/5):])\n",
    "    max_derivative_index = np.argmax(np.abs(derivative_magnetisation))\n",
    "    estimated_critical_temperature = Temp_range_vals[int(len(y_smooth)/5) + max_derivative_index]\n",
    "    return estimated_critical_temperature\n",
    "\n",
    "critical_temperatures = []\n",
    "errors_N = []\n",
    "for N in tqdm(N_values):\n",
    "    critical_temperatures_N = []\n",
    "    for _ in range(repeats):\n",
    "        lattice = randomlattice(N,N)\n",
    "        magnetisation_history = []\n",
    "        for T_prime in Temp_range:\n",
    "            magnetisation = simulate_metropolis(N_mc, lattice, T_prime)\n",
    "            magnetisation_history.append(np.mean(np.abs(magnetisation)))\n",
    "        critical_temp = calculate_critical_temperature(magnetisation_history, Temp_range)\n",
    "        critical_temperatures_N.append(critical_temp)\n",
    "    avg_critical_temp_N = np.mean(critical_temperatures_N)\n",
    "    error_N = np.std(critical_temperatures_N, ddof=1)/np.sqrt(repeats)\n",
    "    critical_temperatures.append(avg_critical_temp_N)\n",
    "    errors_N.append(error_N)\n",
    "error = np.mean(errors_N)\n",
    "plt.errorbar(N_values, critical_temperatures, yerr=errors_N, fmt='.', capsize=5, color='dodgerblue', label=f'Critical temps ± {np.round(error,3)}')\n",
    "plt.xlabel('Lattice Size')\n",
    "plt.ylabel('Critical Temperature')\n",
    "plt.title('Critical Temperature vs Lattice Size')\n",
    "plt.grid(True)\n",
    "plt.show()"
   ]
  },
  {
   "cell_type": "markdown",
   "metadata": {
    "collapsed": false,
    "jupyter": {
     "source_hidden": false
    }
   },
   "source": [
    "![](https://raw.githubusercontent.com/Voodooshrimp/Ising-model-2D/Ising2D/Images/Curietempssmalllattices.png) ![](https://raw.githubusercontent.com/Voodooshrimp/Ising-model-2D/Ising2D/Images/Criticaltempvslatticesize.png) \n",
    "\n"
   ]
  },
  {
   "cell_type": "markdown",
   "metadata": {
    "collapsed": false,
    "jupyter": {
     "source_hidden": false
    }
   },
   "source": [
    "#### Linear regression for a final $T'$ value.\n",
    "\n",
    "Standard error analysis is calculated with the 10 reapeats for each lattice size plotted as error bars.\n",
    "\n",
    "The linear regression analysis enabled a standard deviation error on the predicted slope \\(the shaded region\\).  \n",
    "\n",
    "[Link to Index](#index)<a id='section8.4'></a>"
   ]
  },
  {
   "cell_type": "code",
   "execution_count": null,
   "metadata": {
    "collapsed": false,
    "jupyter": {
     "source_hidden": false
    }
   },
   "outputs": [],
   "source": [
    "import numpy as np\n",
    "from scipy.stats import linregress\n",
    "import matplotlib.pyplot as plt\n",
    "slope, intercept, r_value, p_value, std_err = linregress(N_values, critical_temperatures)\n",
    "error = std_err\n",
    "N_vals1 = np.arange(min(N_values),max(N_values)+1,1)\n",
    "fitted_line = slope * N_vals1 + intercept\n",
    "confidence_int_low = []\n",
    "confidence_int_high = []\n",
    "for i in N_vals1:\n",
    "    fitted_line1 = slope * i + intercept\n",
    "    error1 = error * np.sqrt(1/len(N_values) + (i - np.mean(N_values))**2 / np.sum((N_values - np.mean(N_values))**2))\n",
    "    confidence_int_low.append(fitted_line1 - error1)\n",
    "    confidence_int_high.append(fitted_line1 + error1)\n",
    "title = (f\"Critical Temperature per Lattice Size\\n\"\n",
    "         f\"Slope: {slope:.3f}, Intercept: {intercept:.3f}\\n\"\n",
    "         f\"Mean Critical Temperature: {np.round(np.mean(critical_temperatures),4)} ± {np.round(error,4)}\")\n",
    "plt.fill_between(N_vals1, confidence_int_low, confidence_int_high, color='lightblue', alpha=0.3, label='Confidence Intervals')\n",
    "plt.plot(N_values, fitted_line, color='red', label=f'Linear Regression ($R^2$={r_value**2:.2f})')\n",
    "plt.errorbar(N_vals1, critical_temperatures, yerr=error1, fmt='.', capsize=5, color='dodgerblue', label=f'Critical temps ± {np.round(error,3)}')\n",
    "plt.legend()\n",
    "plt.xlabel('Lattice size $N^2$')\n",
    "plt.ylabel('Critical Temperature')\n",
    "plt.title(title)\n",
    "\n",
    "plt.show()\n"
   ]
  },
  {
   "cell_type": "markdown",
   "metadata": {
    "collapsed": false,
    "jupyter": {
     "source_hidden": false
    }
   },
   "source": [
    "![](https://raw.githubusercontent.com/Voodooshrimp/Ising-model-2D/Ising2D/Images/Curietempssmalllatticeslinear.png) ![](https://raw.githubusercontent.com/Voodooshrimp/Ising-model-2D/Ising2D/Images/Criticaltempfinal.png) ![](https://raw.githubusercontent.com/Voodooshrimp/Ising-model-2D/Ising2D/Images/Criticaltempvslatticesizelinearregression.png)\n",
    "\n"
   ]
  },
  {
   "cell_type": "markdown",
   "metadata": {
    "collapsed": false,
    "jupyter": {
     "source_hidden": false
    }
   },
   "source": [
    "### Calculating Curie Temperatures of Metals using Simulated Value\n",
    "[Link to Index](#index)<a id='section8.5'></a>\n",
    "The theoretically calculated critical temperature of a 2D, zero external magnetic field, Ising model is exactly known to be:\n",
    "$$\\frac{k_B T_C}{J} = \\frac{2}{ln(1+\\sqrt2)}  = 2.269185$$\n",
    "\n",
    "From this simulation, the values output are reasonably stable. The images shown above had initial conditions set for the first figure, second figure and third figure respectively:\n",
    "\n",
    "- N\\_values = range\\(5,20,1\\), range\\(25,35,1\\) and range\\(25,50,1\\)\n",
    "- N\\_mc = 1000, 1000 and 2500\n",
    "- Temp\\_range = np.arange\\(0.1, 5, 0.001\\), np.arange\\(0.1, 5, 0.1\\) and np.arange\\(0.1,5,0.01\\)\n",
    "- repeats = 10, 10 and 20, These values aren't particularly high, but still produced a $T'$ of 2.2614 $\\pm$ 0.0029, 2.291 $\\pm$ 0.0034 and 2.296 $\\pm$ 0.0002, which are \\-0.34% \\+0.95% and \\+0.99% away from this value.\n",
    "\n"
   ]
  },
  {
   "cell_type": "markdown",
   "metadata": {
    "collapsed": false,
    "jupyter": {
     "source_hidden": false
    }
   },
   "source": [
    "Using this information, we can crudely estimate the Curie temperature using coupling constants for various metals. \n",
    "$$T_c = \\frac{J e T'}{k_B} $$\n",
    "\n",
    "Where $T'$ is the value calculated by this model to be 2.28 as an average of all three values stated previously, $e$ is the charge of the electron, J is the interatomic coupling energy constant for the metal, and $k_B$ is the Boltzmann constant.\n",
    "\n",
    "| Element       | Known Coupling Constant est (meV)  | Est. Curie Temp (K) | Known Curie Temp (K) | Error |\n",
    "|---------------|-----------------|-----------------------------|-----------------------------|-------|\n",
    "| Iron (Fe) | 40 | 1058.33 | $\\approx$ 1051 | 0.007%     |\n",
    "| Nickel (Ni) | 25 | 661.46 | 627 | 0.052%    |\n",
    "| Chromium (Cr) | 10 | 264.58 | 311 | -0.175%     |\n",
    "\n",
    "So, pretty decent results for a 2D model built on random lattices.\n",
    "Even though I have tried my best to optimise every aspect of this simulation, it is still limited by computation times.\n",
    "Running this for large lattice sizes for high temperature resolution leads to extremely long runtimes or exceeding computer memory allocation, I have tried many times to run for very high lattice sizes, but the only way to accomplish this\n",
    "is to have it run for many days, all without going idle or having any issue, which I wasn't able to do.\n"
   ]
  },
  {
   "cell_type": "code",
   "execution_count": null,
   "metadata": {
    "collapsed": false,
    "jupyter": {
     "source_hidden": false
    }
   },
   "outputs": [],
   "source": [
    "\"\"\"\n",
    "This is just a simple calculation for the Curie temperatures used in the table above.\n",
    "\n",
    "\n",
    "The electron charge (meV) = 6.241509343x10(-16)\n",
    "The Boltzmann constant (J/K) = 1.380649x10(-23)\n",
    "\"\"\" \n",
    "element_name = [\"Iron (Fe)\", \"Nickel (Ni)\", \"Chromium (Cr)\"]\n",
    "known_curie_temp = [1051, 627,311] \n",
    "known_coupling = [40, 25,10]\n",
    "estimated_T = 2.28\n",
    "theoretical_T = 2/(np.log(1+np.sqrt(2)))\n",
    "error = []\n",
    "Tc_constant_estimation = []\n",
    "Tc_constant_theoretical = [] \n",
    "\n",
    "for coupling, known_temp in zip(known_coupling, known_curie_temp):\n",
    "    e = 1.602176565e-19\n",
    "    kB = 1.380649e-23\n",
    "    Tc_est = (coupling*e *estimated_T*10**-3)/(kB)\n",
    "    Tc_known = (coupling * e * theoretical_T *10**-3)/(kB)\n",
    "    Tc_constant_estimation.append((np.round(Tc_est,2)))\n",
    "    Tc_constant_theoretical.append((np.round(Tc_known,2)))\n",
    "    error.append(np.round((1-known_temp/Tc_est),4))\n",
    "\n",
    "data_array = np.array([element_name, known_curie_temp, Tc_constant_estimation, Tc_constant_theoretical, known_coupling, error])\n",
    "data_array = data_array.T\n",
    "print(data_array)\n"
   ]
  },
  {
   "cell_type": "markdown",
   "metadata": {
    "collapsed": false
   },
   "source": [
    "# End of document\n",
    "\n",
    "\n",
    "\n",
    "\n",
    "# <div style=\"text-align: left;\"><a href=\"#index\">Link to Index</a></div>"
   ]
  }
 ],
 "metadata": {
  "kernelspec": {
   "argv": [
    "/usr/bin/python3",
    "-m",
    "ipykernel",
    "--HistoryManager.enabled=False",
    "--matplotlib=inline",
    "-c",
    "%config InlineBackend.figure_formats = set(['retina'])\nimport matplotlib; matplotlib.rcParams['figure.figsize'] = (12, 7)",
    "-f",
    "{connection_file}"
   ],
   "display_name": "Python 3 (system-wide)",
   "env": {},
   "language": "python",
   "metadata": {
    "cocalc": {
     "description": "Python 3 programming language",
     "priority": 100,
     "url": "https://www.python.org/"
    }
   },
   "name": "python3",
   "resource_dir": "/ext/jupyter/kernels/python3"
  },
  "language_info": {
   "codemirror_mode": {
    "name": "ipython",
    "version": 3
   },
   "file_extension": ".py",
   "mimetype": "text/x-python",
   "name": "python",
   "nbconvert_exporter": "python",
   "pygments_lexer": "ipython3",
   "version": "3.10.12"
  }
 },
 "nbformat": 4,
 "nbformat_minor": 4
}
